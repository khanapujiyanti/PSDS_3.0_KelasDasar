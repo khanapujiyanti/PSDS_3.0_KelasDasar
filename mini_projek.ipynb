{
  "nbformat": 4,
  "nbformat_minor": 0,
  "metadata": {
    "colab": {
      "name": "mini projek.ipynb",
      "provenance": [],
      "collapsed_sections": [],
      "authorship_tag": "ABX9TyOVtgPxdKvVrjZcIxh8VPMg",
      "include_colab_link": true
    },
    "kernelspec": {
      "name": "python3",
      "display_name": "Python 3"
    },
    "language_info": {
      "name": "python"
    }
  },
  "cells": [
    {
      "cell_type": "markdown",
      "metadata": {
        "id": "view-in-github",
        "colab_type": "text"
      },
      "source": [
        "<a href=\"https://colab.research.google.com/github/khanapujiyanti/PSDS_3.0_KelasDasar/blob/main/mini_projek.ipynb\" target=\"_parent\"><img src=\"https://colab.research.google.com/assets/colab-badge.svg\" alt=\"Open In Colab\"/></a>"
      ]
    },
    {
      "cell_type": "markdown",
      "metadata": {
        "id": "a1FFCU7h-Q6N"
      },
      "source": [
        "#**Coffee and Code**"
      ]
    },
    {
      "cell_type": "markdown",
      "metadata": {
        "id": "PpjkPjW_-l55"
      },
      "source": [
        "#Latar Belakang Dataset"
      ]
    },
    {
      "cell_type": "markdown",
      "metadata": {
        "id": "9UWhFl0y-uq2"
      },
      "source": [
        "Kopi merupakan salah satu minuman yang mengandung kafein. Kopi dipercaya dapat meningkatkan kebugaran, meningkatkan performa kerja serta dapat menambah energi dan menghilangkan perasaan mengantuk, sehingga kopi dikatakan dapat meningkatkan konsentrasi. Konsentrasi sangat diperlukan pada saat menyelami beberapa kode yang rumit.\n",
        "\n",
        "dataset ```Coffe and code dataset``` memberikan poin data yang menarik dari bidang CodingHours, CoffeeCupsPerDay, CoffeeTime, CodingWithoutCoffe, CoffeeType, CoffeeSolveBugs, Gender, Country dan AgeRange.\n"
      ]
    },
    {
      "cell_type": "markdown",
      "metadata": {
        "id": "5R382oM_-vNL"
      },
      "source": [
        "#Pertanyaan Analisis"
      ]
    },
    {
      "cell_type": "markdown",
      "metadata": {
        "id": "cB323xcs-yWn"
      },
      "source": [
        "1. Apa type kopi yang paling sering diminum jika dilihat dari jumlah cangkir kopi per hari?\n",
        "\n",
        "2. Apakah dengan meminum kopi dapat memengaruhi lamanya waktu pengkodean? jika dilihat dari rata-rata CodingHours."
      ]
    },
    {
      "cell_type": "markdown",
      "metadata": {
        "id": "TK5bQFSr-zQf"
      },
      "source": [
        "#EDA (Exploratoty Data Analysis)"
      ]
    },
    {
      "cell_type": "markdown",
      "metadata": {
        "id": "MnHF1IQbi6mH"
      },
      "source": [
        "Import Library"
      ]
    },
    {
      "cell_type": "code",
      "metadata": {
        "id": "t-p3VqS6cMdC"
      },
      "source": [
        "import pandas as pd\n",
        "import numpy as np\n",
        "import seaborn as sns\n",
        "import matplotlib.pyplot as plt\n",
        "%matplotlib inline"
      ],
      "execution_count": 82,
      "outputs": []
    },
    {
      "cell_type": "markdown",
      "metadata": {
        "id": "C_I11aLZjdgy"
      },
      "source": [
        "Mengakses Dataset"
      ]
    },
    {
      "cell_type": "code",
      "metadata": {
        "id": "vE2layFw_b-V",
        "colab": {
          "base_uri": "https://localhost:8080/",
          "height": 258
        },
        "outputId": "343ba2fc-a3e6-4c6f-ab8a-f3f020263406"
      },
      "source": [
        "coffee_code = pd.read_csv('/content/CoffeeAndCodeLT2018.csv')\n",
        "coffee_code.head()"
      ],
      "execution_count": 83,
      "outputs": [
        {
          "output_type": "execute_result",
          "data": {
            "text/html": [
              "<div>\n",
              "<style scoped>\n",
              "    .dataframe tbody tr th:only-of-type {\n",
              "        vertical-align: middle;\n",
              "    }\n",
              "\n",
              "    .dataframe tbody tr th {\n",
              "        vertical-align: top;\n",
              "    }\n",
              "\n",
              "    .dataframe thead th {\n",
              "        text-align: right;\n",
              "    }\n",
              "</style>\n",
              "<table border=\"1\" class=\"dataframe\">\n",
              "  <thead>\n",
              "    <tr style=\"text-align: right;\">\n",
              "      <th></th>\n",
              "      <th>CodingHours</th>\n",
              "      <th>CoffeeCupsPerDay</th>\n",
              "      <th>CoffeeTime</th>\n",
              "      <th>CodingWithoutCoffee</th>\n",
              "      <th>CoffeeType</th>\n",
              "      <th>CoffeeSolveBugs</th>\n",
              "      <th>Gender</th>\n",
              "      <th>Country</th>\n",
              "      <th>AgeRange</th>\n",
              "    </tr>\n",
              "  </thead>\n",
              "  <tbody>\n",
              "    <tr>\n",
              "      <th>0</th>\n",
              "      <td>8</td>\n",
              "      <td>2</td>\n",
              "      <td>Before coding</td>\n",
              "      <td>Yes</td>\n",
              "      <td>Caffè latte</td>\n",
              "      <td>Sometimes</td>\n",
              "      <td>Female</td>\n",
              "      <td>Lebanon</td>\n",
              "      <td>18 to 29</td>\n",
              "    </tr>\n",
              "    <tr>\n",
              "      <th>1</th>\n",
              "      <td>3</td>\n",
              "      <td>2</td>\n",
              "      <td>Before coding</td>\n",
              "      <td>Yes</td>\n",
              "      <td>Americano</td>\n",
              "      <td>Yes</td>\n",
              "      <td>Female</td>\n",
              "      <td>Lebanon</td>\n",
              "      <td>30 to 39</td>\n",
              "    </tr>\n",
              "    <tr>\n",
              "      <th>2</th>\n",
              "      <td>5</td>\n",
              "      <td>3</td>\n",
              "      <td>While coding</td>\n",
              "      <td>No</td>\n",
              "      <td>Nescafe</td>\n",
              "      <td>Yes</td>\n",
              "      <td>Female</td>\n",
              "      <td>Lebanon</td>\n",
              "      <td>18 to 29</td>\n",
              "    </tr>\n",
              "    <tr>\n",
              "      <th>3</th>\n",
              "      <td>8</td>\n",
              "      <td>2</td>\n",
              "      <td>Before coding</td>\n",
              "      <td>No</td>\n",
              "      <td>Nescafe</td>\n",
              "      <td>Yes</td>\n",
              "      <td>Male</td>\n",
              "      <td>Lebanon</td>\n",
              "      <td>NaN</td>\n",
              "    </tr>\n",
              "    <tr>\n",
              "      <th>4</th>\n",
              "      <td>10</td>\n",
              "      <td>3</td>\n",
              "      <td>While coding</td>\n",
              "      <td>Sometimes</td>\n",
              "      <td>Turkish</td>\n",
              "      <td>No</td>\n",
              "      <td>Male</td>\n",
              "      <td>Lebanon</td>\n",
              "      <td>18 to 29</td>\n",
              "    </tr>\n",
              "  </tbody>\n",
              "</table>\n",
              "</div>"
            ],
            "text/plain": [
              "   CodingHours  CoffeeCupsPerDay     CoffeeTime  ...  Gender  Country  AgeRange\n",
              "0            8                 2  Before coding  ...  Female  Lebanon  18 to 29\n",
              "1            3                 2  Before coding  ...  Female  Lebanon  30 to 39\n",
              "2            5                 3   While coding  ...  Female  Lebanon  18 to 29\n",
              "3            8                 2  Before coding  ...    Male  Lebanon       NaN\n",
              "4           10                 3   While coding  ...    Male  Lebanon  18 to 29\n",
              "\n",
              "[5 rows x 9 columns]"
            ]
          },
          "metadata": {},
          "execution_count": 83
        }
      ]
    },
    {
      "cell_type": "markdown",
      "metadata": {
        "id": "EbodPP_BkML_"
      },
      "source": [
        "Dimensi Data"
      ]
    },
    {
      "cell_type": "code",
      "metadata": {
        "colab": {
          "base_uri": "https://localhost:8080/"
        },
        "id": "5ETqDQ1EkOV3",
        "outputId": "92cf4454-c7f2-46d7-a8d1-ad7a91693822"
      },
      "source": [
        "coffee_code.shape"
      ],
      "execution_count": 84,
      "outputs": [
        {
          "output_type": "execute_result",
          "data": {
            "text/plain": [
              "(100, 9)"
            ]
          },
          "metadata": {},
          "execution_count": 84
        }
      ]
    },
    {
      "cell_type": "markdown",
      "metadata": {
        "id": "0MSlpQ-ZkZcP"
      },
      "source": [
        "Variabel Pada Dataset"
      ]
    },
    {
      "cell_type": "code",
      "metadata": {
        "colab": {
          "base_uri": "https://localhost:8080/"
        },
        "id": "nfTHK18ikgpY",
        "outputId": "27e4bea3-75e8-41f3-8a8f-bfc2d1d0be36"
      },
      "source": [
        "coffee_code.columns.values"
      ],
      "execution_count": 85,
      "outputs": [
        {
          "output_type": "execute_result",
          "data": {
            "text/plain": [
              "array(['CodingHours', 'CoffeeCupsPerDay', 'CoffeeTime',\n",
              "       'CodingWithoutCoffee', 'CoffeeType', 'CoffeeSolveBugs', 'Gender',\n",
              "       'Country', 'AgeRange'], dtype=object)"
            ]
          },
          "metadata": {},
          "execution_count": 85
        }
      ]
    },
    {
      "cell_type": "code",
      "metadata": {
        "colab": {
          "base_uri": "https://localhost:8080/"
        },
        "id": "2K8g4bKLl007",
        "outputId": "372c9c26-5b2c-43db-9f41-f3d79acf8082"
      },
      "source": [
        "coffee_code.dtypes"
      ],
      "execution_count": 86,
      "outputs": [
        {
          "output_type": "execute_result",
          "data": {
            "text/plain": [
              "CodingHours             int64\n",
              "CoffeeCupsPerDay        int64\n",
              "CoffeeTime             object\n",
              "CodingWithoutCoffee    object\n",
              "CoffeeType             object\n",
              "CoffeeSolveBugs        object\n",
              "Gender                 object\n",
              "Country                object\n",
              "AgeRange               object\n",
              "dtype: object"
            ]
          },
          "metadata": {},
          "execution_count": 86
        }
      ]
    },
    {
      "cell_type": "code",
      "metadata": {
        "colab": {
          "base_uri": "https://localhost:8080/"
        },
        "id": "OzWHbHwCl9u3",
        "outputId": "5225b5c8-1a33-407d-a449-6f02f8d177d4"
      },
      "source": [
        "coffee_code.info()"
      ],
      "execution_count": 87,
      "outputs": [
        {
          "output_type": "stream",
          "name": "stdout",
          "text": [
            "<class 'pandas.core.frame.DataFrame'>\n",
            "RangeIndex: 100 entries, 0 to 99\n",
            "Data columns (total 9 columns):\n",
            " #   Column               Non-Null Count  Dtype \n",
            "---  ------               --------------  ----- \n",
            " 0   CodingHours          100 non-null    int64 \n",
            " 1   CoffeeCupsPerDay     100 non-null    int64 \n",
            " 2   CoffeeTime           100 non-null    object\n",
            " 3   CodingWithoutCoffee  100 non-null    object\n",
            " 4   CoffeeType           99 non-null     object\n",
            " 5   CoffeeSolveBugs      100 non-null    object\n",
            " 6   Gender               100 non-null    object\n",
            " 7   Country              100 non-null    object\n",
            " 8   AgeRange             98 non-null     object\n",
            "dtypes: int64(2), object(7)\n",
            "memory usage: 7.2+ KB\n"
          ]
        }
      ]
    },
    {
      "cell_type": "markdown",
      "metadata": {
        "id": "dUjOEEZ8k3Bn"
      },
      "source": [
        "Mengecek Missing Data"
      ]
    },
    {
      "cell_type": "code",
      "metadata": {
        "colab": {
          "base_uri": "https://localhost:8080/"
        },
        "id": "wIC9yCyxmOqy",
        "outputId": "724c800a-f3c1-4ad9-e0c7-3ff58376d1d0"
      },
      "source": [
        "coffee_code.isnull().sum()"
      ],
      "execution_count": 88,
      "outputs": [
        {
          "output_type": "execute_result",
          "data": {
            "text/plain": [
              "CodingHours            0\n",
              "CoffeeCupsPerDay       0\n",
              "CoffeeTime             0\n",
              "CodingWithoutCoffee    0\n",
              "CoffeeType             1\n",
              "CoffeeSolveBugs        0\n",
              "Gender                 0\n",
              "Country                0\n",
              "AgeRange               2\n",
              "dtype: int64"
            ]
          },
          "metadata": {},
          "execution_count": 88
        }
      ]
    },
    {
      "cell_type": "code",
      "metadata": {
        "colab": {
          "base_uri": "https://localhost:8080/",
          "height": 379
        },
        "id": "SRXolZrEmXhH",
        "outputId": "d46609e9-9ae1-46b1-fea9-fe130b5e1cfc"
      },
      "source": [
        "sns.heatmap(coffee_code.isnull(), cbar=False, yticklabels=False, cmap='viridis')"
      ],
      "execution_count": 89,
      "outputs": [
        {
          "output_type": "execute_result",
          "data": {
            "text/plain": [
              "<matplotlib.axes._subplots.AxesSubplot at 0x7fd013a8a110>"
            ]
          },
          "metadata": {},
          "execution_count": 89
        },
        {
          "output_type": "display_data",
          "data": {
            "image/png": "[encoded data removed]",
            "text/plain": [
              "<Figure size 432x288 with 1 Axes>"
            ]
          },
          "metadata": {
            "needs_background": "light"
          }
        }
      ]
    },
    {
      "cell_type": "markdown",
      "metadata": {
        "id": "nVZnuanOnFq_"
      },
      "source": [
        "Kolom dengan data kosong adalah CoffeeType dan AgeRange"
      ]
    },
    {
      "cell_type": "markdown",
      "metadata": {
        "id": "lqrxnkSfnR_W"
      },
      "source": [
        "Mengecek Outlier"
      ]
    },
    {
      "cell_type": "code",
      "metadata": {
        "colab": {
          "base_uri": "https://localhost:8080/",
          "height": 297
        },
        "id": "yfSl4E3Znd0g",
        "outputId": "2924a8b3-8ca7-4b46-f3da-7412fd815244"
      },
      "source": [
        "coffee_code1 = coffee_code.select_dtypes(include=['int64']) #Memilih kolom numerik\n",
        "\n",
        "sns.boxplot(x=\"variable\", y=\"value\", color='pink', orient='v', data=pd.melt(coffee_code1))\n",
        "plt.tight_layout()"
      ],
      "execution_count": 90,
      "outputs": [
        {
          "output_type": "display_data",
          "data": {
            "image/png": "[encoded data removed]",
            "text/plain": [
              "<Figure size 432x288 with 1 Axes>"
            ]
          },
          "metadata": {
            "needs_background": "light"
          }
        }
      ]
    },
    {
      "cell_type": "markdown",
      "metadata": {
        "id": "TcN5sreRo6lC"
      },
      "source": [
        "Kolom  yang memiliki outlier adalah CodingHours dan CoffeeCupsPerDay"
      ]
    },
    {
      "cell_type": "markdown",
      "metadata": {
        "id": "5ZCbBFFSpD1Z"
      },
      "source": [
        "Melikat Korelasi Data"
      ]
    },
    {
      "cell_type": "code",
      "metadata": {
        "colab": {
          "base_uri": "https://localhost:8080/",
          "height": 341
        },
        "id": "OIDPLp4RpISO",
        "outputId": "6393f97e-147d-428c-e9b5-b13b5a22ad0b"
      },
      "source": [
        "k = len(coffee_code1.columns)\n",
        "cm = coffee_code1.corr()\n",
        "plt.figure(figsize=(10,5))\n",
        "sns.heatmap(cm,annot=True, cmap = 'viridis')"
      ],
      "execution_count": 91,
      "outputs": [
        {
          "output_type": "execute_result",
          "data": {
            "text/plain": [
              "<matplotlib.axes._subplots.AxesSubplot at 0x7fd013afdd50>"
            ]
          },
          "metadata": {},
          "execution_count": 91
        },
        {
          "output_type": "display_data",
          "data": {
            "image/png": "[encoded data removed]",
            "text/plain": [
              "<Figure size 720x360 with 2 Axes>"
            ]
          },
          "metadata": {
            "needs_background": "light"
          }
        }
      ]
    },
    {
      "cell_type": "markdown",
      "metadata": {
        "id": "jYlDofhhp-DC"
      },
      "source": [
        "Melihat Statistik Data"
      ]
    },
    {
      "cell_type": "code",
      "metadata": {
        "colab": {
          "base_uri": "https://localhost:8080/",
          "height": 300
        },
        "id": "EjHvPPWUqC5W",
        "outputId": "07fc1d0c-325c-4eaa-9b37-ecd7014b97f4"
      },
      "source": [
        "coffee_code.describe()"
      ],
      "execution_count": 92,
      "outputs": [
        {
          "output_type": "execute_result",
          "data": {
            "text/html": [
              "<div>\n",
              "<style scoped>\n",
              "    .dataframe tbody tr th:only-of-type {\n",
              "        vertical-align: middle;\n",
              "    }\n",
              "\n",
              "    .dataframe tbody tr th {\n",
              "        vertical-align: top;\n",
              "    }\n",
              "\n",
              "    .dataframe thead th {\n",
              "        text-align: right;\n",
              "    }\n",
              "</style>\n",
              "<table border=\"1\" class=\"dataframe\">\n",
              "  <thead>\n",
              "    <tr style=\"text-align: right;\">\n",
              "      <th></th>\n",
              "      <th>CodingHours</th>\n",
              "      <th>CoffeeCupsPerDay</th>\n",
              "    </tr>\n",
              "  </thead>\n",
              "  <tbody>\n",
              "    <tr>\n",
              "      <th>count</th>\n",
              "      <td>100.000000</td>\n",
              "      <td>100.000000</td>\n",
              "    </tr>\n",
              "    <tr>\n",
              "      <th>mean</th>\n",
              "      <td>6.410000</td>\n",
              "      <td>2.890000</td>\n",
              "    </tr>\n",
              "    <tr>\n",
              "      <th>std</th>\n",
              "      <td>2.644205</td>\n",
              "      <td>1.613673</td>\n",
              "    </tr>\n",
              "    <tr>\n",
              "      <th>min</th>\n",
              "      <td>1.000000</td>\n",
              "      <td>1.000000</td>\n",
              "    </tr>\n",
              "    <tr>\n",
              "      <th>25%</th>\n",
              "      <td>4.000000</td>\n",
              "      <td>2.000000</td>\n",
              "    </tr>\n",
              "    <tr>\n",
              "      <th>50%</th>\n",
              "      <td>7.000000</td>\n",
              "      <td>2.500000</td>\n",
              "    </tr>\n",
              "    <tr>\n",
              "      <th>75%</th>\n",
              "      <td>8.000000</td>\n",
              "      <td>4.000000</td>\n",
              "    </tr>\n",
              "    <tr>\n",
              "      <th>max</th>\n",
              "      <td>10.000000</td>\n",
              "      <td>8.000000</td>\n",
              "    </tr>\n",
              "  </tbody>\n",
              "</table>\n",
              "</div>"
            ],
            "text/plain": [
              "       CodingHours  CoffeeCupsPerDay\n",
              "count   100.000000        100.000000\n",
              "mean      6.410000          2.890000\n",
              "std       2.644205          1.613673\n",
              "min       1.000000          1.000000\n",
              "25%       4.000000          2.000000\n",
              "50%       7.000000          2.500000\n",
              "75%       8.000000          4.000000\n",
              "max      10.000000          8.000000"
            ]
          },
          "metadata": {},
          "execution_count": 92
        }
      ]
    },
    {
      "cell_type": "markdown",
      "metadata": {
        "id": "JiWaCoEBqM9s"
      },
      "source": [
        "Plot Distribusi Data Numerik"
      ]
    },
    {
      "cell_type": "code",
      "metadata": {
        "colab": {
          "base_uri": "https://localhost:8080/",
          "height": 337
        },
        "id": "qfHuFzEYqS6I",
        "outputId": "81dc661f-34f7-4e54-f809-fccab4b5eda3"
      },
      "source": [
        "l = coffee_code1.columns.values\n",
        "number_of_columns=len(coffee_code1.columns)\n",
        "number_of_rows = len(l)-1/number_of_columns\n",
        "plt.figure(figsize=(2*number_of_columns, 5*number_of_rows))\n",
        "for i in range (0, len(l)):\n",
        "  plt.subplot(number_of_rows + 1, number_of_columns, i+1)\n",
        "  sns.distplot(coffee_code[l[i]], kde=True)"
      ],
      "execution_count": 93,
      "outputs": [
        {
          "output_type": "stream",
          "name": "stderr",
          "text": [
            "/usr/local/lib/python3.7/dist-packages/seaborn/distributions.py:2619: FutureWarning: `distplot` is a deprecated function and will be removed in a future version. Please adapt your code to use either `displot` (a figure-level function with similar flexibility) or `histplot` (an axes-level function for histograms).\n",
            "  warnings.warn(msg, FutureWarning)\n",
            "/usr/local/lib/python3.7/dist-packages/seaborn/distributions.py:2619: FutureWarning: `distplot` is a deprecated function and will be removed in a future version. Please adapt your code to use either `displot` (a figure-level function with similar flexibility) or `histplot` (an axes-level function for histograms).\n",
            "  warnings.warn(msg, FutureWarning)\n"
          ]
        },
        {
          "output_type": "display_data",
          "data": {
            "image/png": "[encoded data removed]",
            "text/plain": [
              "<Figure size 288x540 with 2 Axes>"
            ]
          },
          "metadata": {
            "needs_background": "light"
          }
        }
      ]
    },
    {
      "cell_type": "markdown",
      "metadata": {
        "id": "zBxwFIiKq0nm"
      },
      "source": [
        "Pair Plot"
      ]
    },
    {
      "cell_type": "code",
      "metadata": {
        "colab": {
          "base_uri": "https://localhost:8080/",
          "height": 214
        },
        "id": "g_RWv5vtq2cD",
        "outputId": "2d5698ac-511a-482e-bf69-c99c6d1a7bf6"
      },
      "source": [
        "sns.pairplot(coffee_code1, hue=\"CoffeeCupsPerDay\")"
      ],
      "execution_count": 94,
      "outputs": [
        {
          "output_type": "execute_result",
          "data": {
            "text/plain": [
              "<seaborn.axisgrid.PairGrid at 0x7fd013397950>"
            ]
          },
          "metadata": {},
          "execution_count": 94
        },
        {
          "output_type": "display_data",
          "data": {
            "image/png": "[encoded data removed]",
            "text/plain": [
              "<Figure size 280.75x180 with 2 Axes>"
            ]
          },
          "metadata": {
            "needs_background": "light"
          }
        }
      ]
    },
    {
      "cell_type": "markdown",
      "metadata": {
        "id": "t73DzlnC_c9F"
      },
      "source": [
        "#Data Preparation"
      ]
    },
    {
      "cell_type": "markdown",
      "metadata": {
        "id": "8ecqmrGv4akg"
      },
      "source": [
        "DataFrame untuk mengetahui visualisasi type kopi yang paling sering diminum jika dilihat dari jumlah cangkir kopi per hari"
      ]
    },
    {
      "cell_type": "code",
      "metadata": {
        "colab": {
          "base_uri": "https://localhost:8080/",
          "height": 300
        },
        "id": "e2UJzeNr4ZI5",
        "outputId": "df8c91f8-b53c-47b2-cff1-08c9fe010bd6"
      },
      "source": [
        "dataframe=coffee_code.groupby('CoffeeType')['CoffeeCupsPerDay'].sum()\n",
        "dataframe=pd.DataFrame(dataframe)\n",
        "dataframe=dataframe.reset_index()\n",
        "dataframe"
      ],
      "execution_count": 95,
      "outputs": [
        {
          "output_type": "execute_result",
          "data": {
            "text/html": [
              "<div>\n",
              "<style scoped>\n",
              "    .dataframe tbody tr th:only-of-type {\n",
              "        vertical-align: middle;\n",
              "    }\n",
              "\n",
              "    .dataframe tbody tr th {\n",
              "        vertical-align: top;\n",
              "    }\n",
              "\n",
              "    .dataframe thead th {\n",
              "        text-align: right;\n",
              "    }\n",
              "</style>\n",
              "<table border=\"1\" class=\"dataframe\">\n",
              "  <thead>\n",
              "    <tr style=\"text-align: right;\">\n",
              "      <th></th>\n",
              "      <th>CoffeeType</th>\n",
              "      <th>CoffeeCupsPerDay</th>\n",
              "    </tr>\n",
              "  </thead>\n",
              "  <tbody>\n",
              "    <tr>\n",
              "      <th>0</th>\n",
              "      <td>American Coffee</td>\n",
              "      <td>71</td>\n",
              "    </tr>\n",
              "    <tr>\n",
              "      <th>1</th>\n",
              "      <td>Americano</td>\n",
              "      <td>5</td>\n",
              "    </tr>\n",
              "    <tr>\n",
              "      <th>2</th>\n",
              "      <td>Caffè latte</td>\n",
              "      <td>10</td>\n",
              "    </tr>\n",
              "    <tr>\n",
              "      <th>3</th>\n",
              "      <td>Cappuccino</td>\n",
              "      <td>22</td>\n",
              "    </tr>\n",
              "    <tr>\n",
              "      <th>4</th>\n",
              "      <td>Double Espresso (Doppio)</td>\n",
              "      <td>17</td>\n",
              "    </tr>\n",
              "    <tr>\n",
              "      <th>5</th>\n",
              "      <td>Espresso (Short Black)</td>\n",
              "      <td>28</td>\n",
              "    </tr>\n",
              "    <tr>\n",
              "      <th>6</th>\n",
              "      <td>Nescafe</td>\n",
              "      <td>61</td>\n",
              "    </tr>\n",
              "    <tr>\n",
              "      <th>7</th>\n",
              "      <td>Turkish</td>\n",
              "      <td>69</td>\n",
              "    </tr>\n",
              "  </tbody>\n",
              "</table>\n",
              "</div>"
            ],
            "text/plain": [
              "                 CoffeeType  CoffeeCupsPerDay\n",
              "0           American Coffee                71\n",
              "1                 Americano                 5\n",
              "2               Caffè latte                10\n",
              "3                Cappuccino                22\n",
              "4  Double Espresso (Doppio)                17\n",
              "5    Espresso (Short Black)                28\n",
              "6                   Nescafe                61\n",
              "7                   Turkish                69"
            ]
          },
          "metadata": {},
          "execution_count": 95
        }
      ]
    },
    {
      "cell_type": "markdown",
      "metadata": {
        "id": "zQY1Fb7gHzkM"
      },
      "source": [
        "DataFrame untuk mengetahui visualisasi rata-rata waktu pengkodean jika dilakukan dengan dengan meminum kopi."
      ]
    },
    {
      "cell_type": "code",
      "metadata": {
        "colab": {
          "base_uri": "https://localhost:8080/",
          "height": 143
        },
        "id": "ae5F9g3MIL8E",
        "outputId": "e8df061b-bf11-42be-8ebd-f3df4b865071"
      },
      "source": [
        "dataframe1=coffee_code.groupby('CodingWithoutCoffee')['CodingHours'].mean()\n",
        "dataframe1=pd.DataFrame(dataframe1)\n",
        "dataframe1=dataframe1.reset_index()\n",
        "dataframe1"
      ],
      "execution_count": 117,
      "outputs": [
        {
          "output_type": "execute_result",
          "data": {
            "text/html": [
              "<div>\n",
              "<style scoped>\n",
              "    .dataframe tbody tr th:only-of-type {\n",
              "        vertical-align: middle;\n",
              "    }\n",
              "\n",
              "    .dataframe tbody tr th {\n",
              "        vertical-align: top;\n",
              "    }\n",
              "\n",
              "    .dataframe thead th {\n",
              "        text-align: right;\n",
              "    }\n",
              "</style>\n",
              "<table border=\"1\" class=\"dataframe\">\n",
              "  <thead>\n",
              "    <tr style=\"text-align: right;\">\n",
              "      <th></th>\n",
              "      <th>CodingWithoutCoffee</th>\n",
              "      <th>CodingHours</th>\n",
              "    </tr>\n",
              "  </thead>\n",
              "  <tbody>\n",
              "    <tr>\n",
              "      <th>0</th>\n",
              "      <td>No</td>\n",
              "      <td>7.000000</td>\n",
              "    </tr>\n",
              "    <tr>\n",
              "      <th>1</th>\n",
              "      <td>Sometimes</td>\n",
              "      <td>6.647059</td>\n",
              "    </tr>\n",
              "    <tr>\n",
              "      <th>2</th>\n",
              "      <td>Yes</td>\n",
              "      <td>5.633333</td>\n",
              "    </tr>\n",
              "  </tbody>\n",
              "</table>\n",
              "</div>"
            ],
            "text/plain": [
              "  CodingWithoutCoffee  CodingHours\n",
              "0                  No     7.000000\n",
              "1           Sometimes     6.647059\n",
              "2                 Yes     5.633333"
            ]
          },
          "metadata": {},
          "execution_count": 117
        }
      ]
    },
    {
      "cell_type": "markdown",
      "metadata": {
        "id": "aEveTuCM_liV"
      },
      "source": [
        "#Data Visualization"
      ]
    },
    {
      "cell_type": "markdown",
      "metadata": {
        "id": "2SccVCTLARaa"
      },
      "source": [
        "1. Apa type kopi yang paling sering diminum jika dilihat dari jumlah cangkir kopi per hari?"
      ]
    },
    {
      "cell_type": "code",
      "metadata": {
        "colab": {
          "base_uri": "https://localhost:8080/",
          "height": 327
        },
        "id": "imNWidi9CTup",
        "outputId": "ebc3f6a0-68d0-445a-b6f0-e60dd684feae"
      },
      "source": [
        "plt.figure(figsize=(15,5))\n",
        "sns.barplot(x=dataframe['CoffeeType'], y=dataframe['CoffeeCupsPerDay'] )\n",
        "plt.tight_layout()"
      ],
      "execution_count": 97,
      "outputs": [
        {
          "output_type": "display_data",
          "data": {
            "image/png": "[encoded data removed]",
            "text/plain": [
              "<Figure size 1080x360 with 1 Axes>"
            ]
          },
          "metadata": {
            "needs_background": "light"
          }
        }
      ]
    },
    {
      "cell_type": "markdown",
      "metadata": {
        "id": "Q-npjh1vE8Aq"
      },
      "source": [
        "Jadi type kopi yang paling sering diminum jika dilihat dari jumlah cangkir kopi per hari adalah American Coffee."
      ]
    },
    {
      "cell_type": "markdown",
      "metadata": {
        "id": "XqOs1fHdH9HL"
      },
      "source": [
        "2. Apakah dengan meminum kopi dapat memengaruhi lamanya waktu pengkodean? jika dilihat dari rata-rata CodingHours."
      ]
    },
    {
      "cell_type": "code",
      "metadata": {
        "colab": {
          "base_uri": "https://localhost:8080/",
          "height": 327
        },
        "id": "tUAK0XULICL4",
        "outputId": "50984358-03e9-4046-fae2-350cc026b85e"
      },
      "source": [
        "plt.figure(figsize=(15,5))\n",
        "sns.barplot(x=dataframe1['CodingWithoutCoffee'], y=dataframe1['CodingHours'])\n",
        "plt.tight_layout()"
      ],
      "execution_count": 118,
      "outputs": [
        {
          "output_type": "display_data",
          "data": {
            "image/png": "[encoded data removed]",
            "text/plain": [
              "<Figure size 1080x360 with 1 Axes>"
            ]
          },
          "metadata": {
            "needs_background": "light"
          }
        }
      ]
    },
    {
      "cell_type": "markdown",
      "metadata": {
        "id": "Oh4GU_k9ZRR5"
      },
      "source": [
        "Kesimpulannya meminum kopi dapat meningkatkan lamanya waktu pengkodean(ngoding)."
      ]
    }
  ]
}