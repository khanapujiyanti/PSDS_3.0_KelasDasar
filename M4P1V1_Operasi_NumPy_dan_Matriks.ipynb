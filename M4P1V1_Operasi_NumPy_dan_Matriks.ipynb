{
  "nbformat": 4,
  "nbformat_minor": 0,
  "metadata": {
    "colab": {
      "name": "M4P1V1_Operasi_NumPy_dan_Matriks.ipynb",
      "provenance": [],
      "collapsed_sections": [],
      "authorship_tag": "ABX9TyOavA2VMs3np19SAPhncNRZ",
      "include_colab_link": true
    },
    "kernelspec": {
      "name": "python3",
      "display_name": "Python 3"
    },
    "language_info": {
      "name": "python"
    }
  },
  "cells": [
    {
      "cell_type": "markdown",
      "metadata": {
        "id": "view-in-github",
        "colab_type": "text"
      },
      "source": [
        "<a href=\"https://colab.research.google.com/github/khanapujiyanti/PSDS_3.0_KelasDasar/blob/main/M4P1V1_Operasi_NumPy_dan_Matriks.ipynb\" target=\"_parent\"><img src=\"https://colab.research.google.com/assets/colab-badge.svg\" alt=\"Open In Colab\"/></a>"
      ]
    },
    {
      "cell_type": "markdown",
      "metadata": {
        "id": "YZwtUDsS1E7A"
      },
      "source": [
        "#Numpy Array"
      ]
    },
    {
      "cell_type": "markdown",
      "metadata": {
        "id": "Ta6yXu4N1Oxv"
      },
      "source": [
        "NumPy merupakansalah satu library Python yang banyak digunakan dalam proses analisis data karena fiturnya yang hebat."
      ]
    },
    {
      "cell_type": "code",
      "metadata": {
        "id": "Um6uJAxv0sVM"
      },
      "source": [
        "import numpy as np"
      ],
      "execution_count": 1,
      "outputs": []
    },
    {
      "cell_type": "markdown",
      "metadata": {
        "id": "n1smwV_T1sJV"
      },
      "source": [
        "#Membuat Array Numpy"
      ]
    },
    {
      "cell_type": "markdown",
      "metadata": {
        "id": "Nda3Hzd11wHC"
      },
      "source": [
        "Kita bisa membuat array menggunakan NumPy dengan membungkusnya terlebih dahulu di List dan dirubah menjadi numpy array."
      ]
    },
    {
      "cell_type": "code",
      "metadata": {
        "colab": {
          "base_uri": "https://localhost:8080/"
        },
        "id": "P0xfublH2Dt0",
        "outputId": "b265dc75-0603-4493-f1b2-7ab4b9a56a6a"
      },
      "source": [
        "list_1 = [1,2,3,4,5]\n",
        "arr_1 = np.array([list_1])\n",
        "arr_1"
      ],
      "execution_count": 2,
      "outputs": [
        {
          "output_type": "execute_result",
          "data": {
            "text/plain": [
              "array([[1, 2, 3, 4, 5]])"
            ]
          },
          "metadata": {},
          "execution_count": 2
        }
      ]
    },
    {
      "cell_type": "markdown",
      "metadata": {
        "id": "ABCpFnlP2Vjq"
      },
      "source": [
        "Beberapa fungsi yang dapat digunakan dalam membuat array\n",
        "\n",
        "```\n",
        "zeros() -> membuat array dengan nilai 0\n",
        "\n",
        "ones()  -> membuat array dengan nilai 1\n",
        "\n",
        "arange() -> membuat array dengan nilai dalam range\n",
        "\n",
        "linspace -> membuat array dengan nilai dalam interval\n",
        "\n",
        "logspace -> membuat array dengan nilai log Base10 dalam interval\n",
        "\n",
        "full -> membuat array dengan semua elemen penyusunnya sama\n",
        "\n",
        "full_like -> membuat array dengan smua elemen penyusunnya sama namun ukurannya dari array lainnya\n",
        "\n",
        "identity -> membuat array matriks identitas\n",
        "\n",
        "repeat  -> membuat array dengan perulangan array atau sequence\n",
        "```"
      ]
    },
    {
      "cell_type": "code",
      "metadata": {
        "colab": {
          "base_uri": "https://localhost:8080/"
        },
        "id": "z9eVkRQx5nm_",
        "outputId": "4be7df5d-7083-43cb-c997-ea2b5e1d4843"
      },
      "source": [
        "print(np.zeros((2,5))) #membuat array dengan nilai 0 dengan shape (5,5)"
      ],
      "execution_count": 3,
      "outputs": [
        {
          "output_type": "stream",
          "name": "stdout",
          "text": [
            "[[0. 0. 0. 0. 0.]\n",
            " [0. 0. 0. 0. 0.]]\n"
          ]
        }
      ]
    },
    {
      "cell_type": "code",
      "metadata": {
        "id": "WQq-9HCX52U2",
        "colab": {
          "base_uri": "https://localhost:8080/"
        },
        "outputId": "cd984c76-21c4-43e9-a203-ceda47bd94eb"
      },
      "source": [
        "print(np.ones((5,3))) # membuat array dengan nilai 1 dengan shape (5,5)"
      ],
      "execution_count": 4,
      "outputs": [
        {
          "output_type": "stream",
          "name": "stdout",
          "text": [
            "[[1. 1. 1.]\n",
            " [1. 1. 1.]\n",
            " [1. 1. 1.]\n",
            " [1. 1. 1.]\n",
            " [1. 1. 1.]]\n"
          ]
        }
      ]
    },
    {
      "cell_type": "code",
      "metadata": {
        "id": "tXC8mQPD6CHX",
        "colab": {
          "base_uri": "https://localhost:8080/"
        },
        "outputId": "bef15c41-fb1f-448a-b4ea-741fb9b014de"
      },
      "source": [
        "print(np.arange(1, 10, 2)) #arange(start, stop, step)"
      ],
      "execution_count": 5,
      "outputs": [
        {
          "output_type": "stream",
          "name": "stdout",
          "text": [
            "[1 3 5 7 9]\n"
          ]
        }
      ]
    },
    {
      "cell_type": "code",
      "metadata": {
        "id": "BYj0Xypr6PKl",
        "colab": {
          "base_uri": "https://localhost:8080/"
        },
        "outputId": "2d9e846e-b91c-49b7-f7ce-180704e7a7a9"
      },
      "source": [
        "print(np.linspace(1, 10, 2)) #linespace(star, stop, number)"
      ],
      "execution_count": 6,
      "outputs": [
        {
          "output_type": "stream",
          "name": "stdout",
          "text": [
            "[ 1. 10.]\n"
          ]
        }
      ]
    },
    {
      "cell_type": "code",
      "metadata": {
        "colab": {
          "base_uri": "https://localhost:8080/"
        },
        "id": "G8yJmUNXn88F",
        "outputId": "d314d3d7-feef-48de-b63e-e912ca916351"
      },
      "source": [
        "print(np.logspace(1,10,2)) #logspace(start, stop, number)"
      ],
      "execution_count": 7,
      "outputs": [
        {
          "output_type": "stream",
          "name": "stdout",
          "text": [
            "[1.e+01 1.e+10]\n"
          ]
        }
      ]
    },
    {
      "cell_type": "code",
      "metadata": {
        "colab": {
          "base_uri": "https://localhost:8080/"
        },
        "id": "-s_jzcr-ogbG",
        "outputId": "005d754d-7969-49af-c525-e3fe1315a52d"
      },
      "source": [
        "print(np.full((2,2),4)) #Membuat array matriks dengan shape (2,2) dengan elemen 99"
      ],
      "execution_count": 8,
      "outputs": [
        {
          "output_type": "stream",
          "name": "stdout",
          "text": [
            "[[4 4]\n",
            " [4 4]]\n"
          ]
        }
      ]
    },
    {
      "cell_type": "code",
      "metadata": {
        "colab": {
          "base_uri": "https://localhost:8080/"
        },
        "id": "1zvpAFhro41d",
        "outputId": "c77d14bd-ac72-4063-8b31-9fce91b898dc"
      },
      "source": [
        "A = np.array([[1,2,3,4,5,6,7],[8,9,10,11,12,13,14]])\n",
        "print(A)\n",
        "\n",
        "print(np.full_like(A,3)) # Membuat array matriks dengan shape yang sama dengan A semua elemen "
      ],
      "execution_count": 9,
      "outputs": [
        {
          "output_type": "stream",
          "name": "stdout",
          "text": [
            "[[ 1  2  3  4  5  6  7]\n",
            " [ 8  9 10 11 12 13 14]]\n",
            "[[3 3 3 3 3 3 3]\n",
            " [3 3 3 3 3 3 3]]\n"
          ]
        }
      ]
    },
    {
      "cell_type": "code",
      "metadata": {
        "colab": {
          "base_uri": "https://localhost:8080/"
        },
        "id": "5U4BBypVpqa_",
        "outputId": "1ebcfb77-89db-4a40-cb0f-5ce3fc1d98e9"
      },
      "source": [
        "print(np.random.rand(4,2)) #Random decimal number"
      ],
      "execution_count": 10,
      "outputs": [
        {
          "output_type": "stream",
          "name": "stdout",
          "text": [
            "[[0.32516294 0.34640124]\n",
            " [0.81820668 0.34907759]\n",
            " [0.12965007 0.06209036]\n",
            " [0.26548106 0.73594758]]\n"
          ]
        }
      ]
    },
    {
      "cell_type": "code",
      "metadata": {
        "colab": {
          "base_uri": "https://localhost:8080/"
        },
        "id": "0-rxNlVCqRbv",
        "outputId": "7e94702b-0863-443e-ef0f-e5b89f6dd5c3"
      },
      "source": [
        "print(np.random.randint(-4,8, size=(3,3))) #Random integer values"
      ],
      "execution_count": 11,
      "outputs": [
        {
          "output_type": "stream",
          "name": "stdout",
          "text": [
            "[[1 7 1]\n",
            " [7 1 2]\n",
            " [1 3 3]]\n"
          ]
        }
      ]
    },
    {
      "cell_type": "code",
      "metadata": {
        "colab": {
          "base_uri": "https://localhost:8080/"
        },
        "id": "RlBP-i4oqpwU",
        "outputId": "478ca37d-24fb-4ec8-96d1-43128a89ec21"
      },
      "source": [
        "print(np.identity(5)) #Membuat matriks identitas"
      ],
      "execution_count": 12,
      "outputs": [
        {
          "output_type": "stream",
          "name": "stdout",
          "text": [
            "[[1. 0. 0. 0. 0.]\n",
            " [0. 1. 0. 0. 0.]\n",
            " [0. 0. 1. 0. 0.]\n",
            " [0. 0. 0. 1. 0.]\n",
            " [0. 0. 0. 0. 1.]]\n"
          ]
        }
      ]
    },
    {
      "cell_type": "code",
      "metadata": {
        "colab": {
          "base_uri": "https://localhost:8080/"
        },
        "id": "JSjkwOkLq7rH",
        "outputId": "ca10fc73-b853-465c-8f96-d3804f09337c"
      },
      "source": [
        "arr = np.array([[1,2,3]]) #membuat matriks dengan perulangan array\n",
        "r1 = np.repeat(arr,3,axis=0)\n",
        "print(r1)"
      ],
      "execution_count": 13,
      "outputs": [
        {
          "output_type": "stream",
          "name": "stdout",
          "text": [
            "[[1 2 3]\n",
            " [1 2 3]\n",
            " [1 2 3]]\n"
          ]
        }
      ]
    },
    {
      "cell_type": "markdown",
      "metadata": {
        "id": "hE3bj-tcry79"
      },
      "source": [
        "#Metode-metode pada array"
      ]
    },
    {
      "cell_type": "markdown",
      "metadata": {
        "id": "dbQ2d5BodovV"
      },
      "source": [
        "Objek array pada Python Numpy memiliki berbagai method untuk melakukan operasi atau perintah-perintah tertentu. Berikut adalah fungsi-fungsiyang merupakan metode pada array yang sering dipakai:\n",
        "\n",
        " **array.ndim**\n",
        "\n",
        "Metode ini digunakan untuk mengetahui dimensi dari array."
      ]
    },
    {
      "cell_type": "code",
      "metadata": {
        "id": "GS2gMT9Rro-a",
        "colab": {
          "base_uri": "https://localhost:8080/"
        },
        "outputId": "702acacc-b07e-4f83-e952-82f31e3fea05"
      },
      "source": [
        "a=np.array([29, 28, 30], dtype='int32')\n",
        "print(a)\n",
        "\n",
        "print(\"Dimensi dari array a adalah \", a.ndim)"
      ],
      "execution_count": 14,
      "outputs": [
        {
          "output_type": "stream",
          "name": "stdout",
          "text": [
            "[29 28 30]\n",
            "Dimensi dari array a adalah  1\n"
          ]
        }
      ]
    },
    {
      "cell_type": "markdown",
      "metadata": {
        "id": "ODsXSFk_euFN"
      },
      "source": [
        "**array.shape**\n",
        "\n",
        "Metode ini digunakan untuk mengetahui ukuran (variabel dan baris) dari array."
      ]
    },
    {
      "cell_type": "code",
      "metadata": {
        "id": "jDamWqTOe-9-",
        "colab": {
          "base_uri": "https://localhost:8080/"
        },
        "outputId": "8ce7ef4d-73c2-4c39-cace-f4f197f5238b"
      },
      "source": [
        "b = np.array([[9,.0,8.0,7.0],[6.0,5.0,4.0]])\n",
        "print(b)\n",
        "\n",
        "print(\"Ukuran Shape dari array b adalah \", b.shape)"
      ],
      "execution_count": 19,
      "outputs": [
        {
          "output_type": "stream",
          "name": "stdout",
          "text": [
            "[list([9, 0.0, 8.0, 7.0]) list([6.0, 5.0, 4.0])]\n",
            "Ukuran Shape dari array b adalah  (2,)\n"
          ]
        },
        {
          "output_type": "stream",
          "name": "stderr",
          "text": [
            "/usr/local/lib/python3.7/dist-packages/ipykernel_launcher.py:1: VisibleDeprecationWarning: Creating an ndarray from ragged nested sequences (which is a list-or-tuple of lists-or-tuples-or ndarrays with different lengths or shapes) is deprecated. If you meant to do this, you must specify 'dtype=object' when creating the ndarray\n",
            "  \"\"\"Entry point for launching an IPython kernel.\n"
          ]
        }
      ]
    },
    {
      "cell_type": "markdown",
      "metadata": {
        "id": "LtiUBwWVfbcX"
      },
      "source": [
        "**array.dtype**\n",
        "\n",
        "Metode ini digunaka untuk mengtahui type data dari elemen penyusun array."
      ]
    },
    {
      "cell_type": "code",
      "metadata": {
        "id": "pPSBYMtwfm6s",
        "colab": {
          "base_uri": "https://localhost:8080/"
        },
        "outputId": "c98b044d-d074-485c-d186-9f1d7fbdbdc9"
      },
      "source": [
        "a.dtype"
      ],
      "execution_count": 20,
      "outputs": [
        {
          "output_type": "execute_result",
          "data": {
            "text/plain": [
              "dtype('int32')"
            ]
          },
          "metadata": {},
          "execution_count": 20
        }
      ]
    },
    {
      "cell_type": "markdown",
      "metadata": {
        "id": "fLtw2IJjfpLc"
      },
      "source": [
        "**array.size**\n",
        "\n",
        "Merode ini digunakan untuk menghitung jumlah elemen dari array."
      ]
    },
    {
      "cell_type": "code",
      "metadata": {
        "id": "CcYQLVcqfy_e",
        "colab": {
          "base_uri": "https://localhost:8080/"
        },
        "outputId": "89de34f5-db71-46a9-a20c-34ecf6a0ff53"
      },
      "source": [
        "a.size"
      ],
      "execution_count": 21,
      "outputs": [
        {
          "output_type": "execute_result",
          "data": {
            "text/plain": [
              "3"
            ]
          },
          "metadata": {},
          "execution_count": 21
        }
      ]
    },
    {
      "cell_type": "markdown",
      "metadata": {
        "id": "CJ75Q6mlsSB1"
      },
      "source": [
        "#Multidimensional Array"
      ]
    },
    {
      "cell_type": "markdown",
      "metadata": {
        "id": "uwr0OftBsaOb"
      },
      "source": [
        "Salah satu fitur menarik dari NumPy adalah dia mampu membuat multidimensional array dan melakukan manipulasi array dengan mudah dan cepat\n",
        "\n",
        "Multidimensional array adalah array yang berbentuk lebih dari 1 dimensi (1D), bisa 2D, 3D, 4D dan seterusnya\n",
        "\n",
        "Cara membuat multidimensional array sama dengan membuat array 1 dimensi, perbedaannya hanya pada parameter yang digunakan\n",
        "\n",
        "Berikut contohnya membuat array 2 dimensi"
      ]
    },
    {
      "cell_type": "code",
      "metadata": {
        "id": "UCdJJmXutpYy",
        "colab": {
          "base_uri": "https://localhost:8080/"
        },
        "outputId": "d597e2fd-2f0d-4f66-82c7-27247561ffa3"
      },
      "source": [
        "arr_2 = np.array([[1,2,3,4,5], [2,4,6,8,10]])\n",
        "arr_2"
      ],
      "execution_count": 22,
      "outputs": [
        {
          "output_type": "execute_result",
          "data": {
            "text/plain": [
              "array([[ 1,  2,  3,  4,  5],\n",
              "       [ 2,  4,  6,  8, 10]])"
            ]
          },
          "metadata": {},
          "execution_count": 22
        }
      ]
    },
    {
      "cell_type": "markdown",
      "metadata": {
        "id": "IiGeHEwXg0R5"
      },
      "source": [
        "Array diatas adalah berbentuk (2,5) artinya mempunyai 2 baris dan 5 kolom \n",
        "\n",
        "Kita bisa melihat jumlah elemen di setiap dimensi dengan menggunakan shape"
      ]
    },
    {
      "cell_type": "code",
      "metadata": {
        "id": "uCVMb4EshEch",
        "colab": {
          "base_uri": "https://localhost:8080/"
        },
        "outputId": "a6645485-34fc-4de6-ee28-9058b71b4626"
      },
      "source": [
        "arr_2.shape"
      ],
      "execution_count": 23,
      "outputs": [
        {
          "output_type": "execute_result",
          "data": {
            "text/plain": [
              "(2, 5)"
            ]
          },
          "metadata": {},
          "execution_count": 23
        }
      ]
    },
    {
      "cell_type": "markdown",
      "metadata": {
        "id": "Cuc3rs87hIFz"
      },
      "source": [
        "#Indexing dan Slicing"
      ]
    },
    {
      "cell_type": "markdown",
      "metadata": {
        "id": "ZC8mvruItq7w"
      },
      "source": [
        "\n",
        "\n",
        "Kita juga dapat melakukan indexing dan slicing terhadap array dengan mudah\n",
        "\n",
        "Indexing dimulai dari 0 dan dimulai dengan notasi bracket\"[]\"\n",
        "\n",
        "Misal kita ingin mencari nilai yang berada di index 0, 2, dan 4"
      ]
    },
    {
      "cell_type": "code",
      "metadata": {
        "id": "bGvpQN0sub6d",
        "colab": {
          "base_uri": "https://localhost:8080/"
        },
        "outputId": "2e01d7f4-a764-4446-e3d4-835d4d280c9b"
      },
      "source": [
        "arr_3 = np.array([1,2,3,4,5])\n",
        "print(arr_3[0])\n",
        "print(arr_3[2])\n",
        "print(arr_3[4])"
      ],
      "execution_count": 24,
      "outputs": [
        {
          "output_type": "stream",
          "name": "stdout",
          "text": [
            "1\n",
            "3\n",
            "5\n"
          ]
        }
      ]
    },
    {
      "cell_type": "markdown",
      "metadata": {
        "id": "LpNEpoXghgMH"
      },
      "source": [
        "Untuk mengambil nilai bederet tambahkan \":\""
      ]
    },
    {
      "cell_type": "code",
      "metadata": {
        "id": "_iyBhP3ChoA-",
        "colab": {
          "base_uri": "https://localhost:8080/"
        },
        "outputId": "006f947b-d837-4a01-d4b2-1ca8540f1088"
      },
      "source": [
        "arr_3 = np.array([1,2,3,4,5])\n",
        "print(arr_3[0:4])"
      ],
      "execution_count": 25,
      "outputs": [
        {
          "output_type": "stream",
          "name": "stdout",
          "text": [
            "[1 2 3 4]\n"
          ]
        }
      ]
    },
    {
      "cell_type": "code",
      "metadata": {
        "id": "kheXEKyvhxfb",
        "colab": {
          "base_uri": "https://localhost:8080/"
        },
        "outputId": "7fcb005d-ec8e-4147-d3b2-2f68626bd0d7"
      },
      "source": [
        "arr_4 = np.array([[1,2,3,4,5],[2,4,6,8,10]])\n",
        "print(arr_4)\n",
        "print(arr_4[1:3])"
      ],
      "execution_count": 28,
      "outputs": [
        {
          "output_type": "stream",
          "name": "stdout",
          "text": [
            "[[ 1  2  3  4  5]\n",
            " [ 2  4  6  8 10]]\n",
            "[[ 2  4  6  8 10]]\n"
          ]
        }
      ]
    },
    {
      "cell_type": "markdown",
      "metadata": {
        "id": "eWgWN_Q9iBcJ"
      },
      "source": [
        "Nilai pada kolom index ke-1 dan baris indx ke-1 adalah 4"
      ]
    },
    {
      "cell_type": "markdown",
      "metadata": {
        "id": "qKR7S0JQvpby"
      },
      "source": [
        "#Operasi Aritmatika"
      ]
    },
    {
      "cell_type": "markdown",
      "metadata": {
        "id": "5MPsO2xKuc2e"
      },
      "source": [
        "\n",
        "Kita bisa menggunakan operasi aritmatika seperti penjumlahan, pengurangan, perkalian, pembagian dan perpangkatan\n",
        "\n",
        "Operator yang digunakan adalah +,-,,/dan*\n",
        "\n",
        "Berikut contoh operasi aritmatika array"
      ]
    },
    {
      "cell_type": "code",
      "metadata": {
        "id": "vvj-62jTu6Ce",
        "colab": {
          "base_uri": "https://localhost:8080/"
        },
        "outputId": "2cee59fa-8184-4a5c-e5d9-d98b6d14e70f"
      },
      "source": [
        "arr_A = np.array([1,2,3,4,5])\n",
        "arr_B = np.array([2,2,2,2,2])\n",
        "\n",
        "print(\"Penjumlahan =\", arr_A + arr_B)\n",
        "print(\"Pengurangan = \", arr_A - arr_B)\n",
        "print(\"Perkalian = \", arr_A * arr_B)\n",
        "print(\"Pembagian = \", arr_A / arr_B)\n",
        "print(\"Perpangkatan = \", arr_A ** arr_B)"
      ],
      "execution_count": 29,
      "outputs": [
        {
          "output_type": "stream",
          "name": "stdout",
          "text": [
            "Penjumlahan = [3 4 5 6 7]\n",
            "Pengurangan =  [-1  0  1  2  3]\n",
            "Perkalian =  [ 2  4  6  8 10]\n",
            "Pembagian =  [0.5 1.  1.5 2.  2.5]\n",
            "Perpangkatan =  [ 1  4  9 16 25]\n"
          ]
        }
      ]
    },
    {
      "cell_type": "markdown",
      "metadata": {
        "id": "fgM2G3cbvlUO"
      },
      "source": [
        "#operasi Matematika"
      ]
    },
    {
      "cell_type": "markdown",
      "metadata": {
        "id": "FPR8p5aYu7I_"
      },
      "source": [
        "\n",
        "NumPy mempunyai fungsi matematika yang dapat digunakan pada array\n",
        "\n",
        "Beberapa contoh fungsi statistik antara lain min(),max(), mean(), sum(), std()"
      ]
    },
    {
      "cell_type": "code",
      "metadata": {
        "id": "ObSc6Id1vf1S",
        "colab": {
          "base_uri": "https://localhost:8080/"
        },
        "outputId": "f39eeed0-decc-4fe5-d982-eeba49b2f855"
      },
      "source": [
        "arr_5 = np.array([1,2,3,4,5])\n",
        "print(\"Nilai minimal = \", arr_5.min())\n",
        "print(\"Nilai maksimal = \", arr_5.max())\n",
        "print(\"NIlai rata-rata = \", arr_5.mean())\n",
        "print(\"Total nilai = \", arr_5.sum())\n",
        "print(\"Standar Deviasi = \", arr_5.std())"
      ],
      "execution_count": 30,
      "outputs": [
        {
          "output_type": "stream",
          "name": "stdout",
          "text": [
            "Nilai minimal =  1\n",
            "Nilai maksimal =  5\n",
            "NIlai rata-rata =  3.0\n",
            "Total nilai =  15\n",
            "Standar Deviasi =  1.4142135623730951\n"
          ]
        }
      ]
    },
    {
      "cell_type": "markdown",
      "metadata": {
        "id": "seScwr8nw2qb"
      },
      "source": [
        "Ada juga fungsi argmin() dan argmax() untuk mendapatkan indeks dari nilai minimum dan maksimum"
      ]
    },
    {
      "cell_type": "code",
      "metadata": {
        "id": "VUm9ETfgxBzg",
        "colab": {
          "base_uri": "https://localhost:8080/"
        },
        "outputId": "7be0d8de-5c91-41ed-92fd-51d36653a9bb"
      },
      "source": [
        "print(\"Index nilai minimal = \", arr_5.argmin())\n",
        "print(\"Index nilai maksimal = \", arr_5.argmax())"
      ],
      "execution_count": 31,
      "outputs": [
        {
          "output_type": "stream",
          "name": "stdout",
          "text": [
            "Index nilai minimal =  0\n",
            "Index nilai maksimal =  4\n"
          ]
        }
      ]
    },
    {
      "cell_type": "markdown",
      "metadata": {
        "id": "zT_Zns4pvhER"
      },
      "source": [
        "#Transformasi Array"
      ]
    },
    {
      "cell_type": "markdown",
      "metadata": {
        "id": "m_3sZoHfvzZf"
      },
      "source": [
        "Kita dapat membuat array baru dari array yang sudah ada melalui berbagai metode transformasi seperti merubah ukuran, menggabungkan dua array atau lebih dan lain sebagainya"
      ]
    },
    {
      "cell_type": "markdown",
      "metadata": {
        "id": "-8y2STAsxWR-"
      },
      "source": [
        "**array.reshape**\n",
        "\n",
        "metode ini digunakan untuk merubah shape array dengan jumlah elemen yang tidak berubah."
      ]
    },
    {
      "cell_type": "code",
      "metadata": {
        "id": "aNv6BhVRwFbf",
        "colab": {
          "base_uri": "https://localhost:8080/"
        },
        "outputId": "bc0aa287-dd61-4b4f-d060-4251e9007ad0"
      },
      "source": [
        "sebelum = np.array([[1,2,3,4],[5,6,7,8]])\n",
        "print(sebelum)\n",
        "\n",
        "sesudah = sebelum.reshape((8,1))\n",
        "print(sesudah)"
      ],
      "execution_count": 32,
      "outputs": [
        {
          "output_type": "stream",
          "name": "stdout",
          "text": [
            "[[1 2 3 4]\n",
            " [5 6 7 8]]\n",
            "[[1]\n",
            " [2]\n",
            " [3]\n",
            " [4]\n",
            " [5]\n",
            " [6]\n",
            " [7]\n",
            " [8]]\n"
          ]
        }
      ]
    },
    {
      "cell_type": "markdown",
      "metadata": {
        "id": "HWmA5ddex7TJ"
      },
      "source": [
        "Perhatikan bahwa array ```sebelum``` memiliki jjumlah elemen 8(2,4) dan array ```sesudah``` memiliki jumlah elemen8 (4,2)."
      ]
    },
    {
      "cell_type": "markdown",
      "metadata": {
        "id": "4lvqPxVAyRbu"
      },
      "source": [
        "**array.vstack**\n",
        "\n",
        "Metode ini dilakukanuntuk menumpuk beberapa array secara vertikal"
      ]
    },
    {
      "cell_type": "code",
      "metadata": {
        "id": "6e47Xp7CydIQ",
        "colab": {
          "base_uri": "https://localhost:8080/"
        },
        "outputId": "a7509dfe-d0b6-4696-d8d9-6f63e47935aa"
      },
      "source": [
        "v1 = np.array([1,2,3,4])\n",
        "v2 = np.array([5,6,7,8])\n",
        "\n",
        "np.vstack([v1,v2,v1,v2])"
      ],
      "execution_count": 35,
      "outputs": [
        {
          "output_type": "execute_result",
          "data": {
            "text/plain": [
              "array([[1, 2, 3, 4],\n",
              "       [5, 6, 7, 8],\n",
              "       [1, 2, 3, 4],\n",
              "       [5, 6, 7, 8]])"
            ]
          },
          "metadata": {},
          "execution_count": 35
        }
      ]
    },
    {
      "cell_type": "markdown",
      "metadata": {
        "id": "TUMi1AhDytb1"
      },
      "source": [
        "**array.hstack**\n",
        "\n",
        "Metode ini dilakukan untuk menumpuk beberapa array secara horizontal."
      ]
    },
    {
      "cell_type": "code",
      "metadata": {
        "id": "WcZkNZGNy9sm",
        "colab": {
          "base_uri": "https://localhost:8080/"
        },
        "outputId": "1df6d9cb-c27a-4309-ef78-ba5f7544af79"
      },
      "source": [
        "h1 = np.array([2,4])\n",
        "h2 = np.array([2,2])\n",
        "print(h1)\n",
        "print(h2)\n",
        "\n",
        "print(np.hstack((h1,h2)))"
      ],
      "execution_count": 36,
      "outputs": [
        {
          "output_type": "stream",
          "name": "stdout",
          "text": [
            "[2 4]\n",
            "[2 2]\n",
            "[2 4 2 2]\n"
          ]
        }
      ]
    },
    {
      "cell_type": "markdown",
      "metadata": {
        "id": "QaM8KnxvwGDV"
      },
      "source": [
        "#Representasi Matriks Pada Python"
      ]
    },
    {
      "cell_type": "markdown",
      "metadata": {
        "id": "DTfGDbRpzZP-"
      },
      "source": [
        "Matriks adalah array 2 dimensi khusus yang memperhatikan sifat 2 dimensinya melalui operasi. Matriks memiliki operator khusus tertentu, seperti perkalian matriks dan pemangkatan matriks."
      ]
    },
    {
      "cell_type": "markdown",
      "metadata": {
        "id": "JY7-7ML0z0kL"
      },
      "source": [
        "Berikut adalah beberapa penlisan python di berbagai platform:\n",
        "\n"
      ]
    },
    {
      "cell_type": "markdown",
      "metadata": {
        "id": "miV_yuyz0AfI"
      },
      "source": [
        "Berikut contoh penulisan matriks pada python:"
      ]
    },
    {
      "cell_type": "code",
      "metadata": {
        "id": "JJpeqjUAwK15"
      },
      "source": [
        "import numpy as np"
      ],
      "execution_count": 37,
      "outputs": []
    },
    {
      "cell_type": "code",
      "metadata": {
        "colab": {
          "base_uri": "https://localhost:8080/"
        },
        "id": "NB5TH2-K0OZG",
        "outputId": "753bc365-df8d-4e48-efc6-4595760fc88a"
      },
      "source": [
        "A = np.array([[1,2],[4,5]])\n",
        "A"
      ],
      "execution_count": 38,
      "outputs": [
        {
          "output_type": "execute_result",
          "data": {
            "text/plain": [
              "array([[1, 2],\n",
              "       [4, 5]])"
            ]
          },
          "metadata": {},
          "execution_count": 38
        }
      ]
    },
    {
      "cell_type": "code",
      "metadata": {
        "colab": {
          "base_uri": "https://localhost:8080/"
        },
        "id": "OewvCnq10Ws_",
        "outputId": "bfa11953-c5c8-49e5-addc-d088b37d4f4b"
      },
      "source": [
        "B = np.array([[1,2,3], [4,5,6],[7.8,9]])\n",
        "B"
      ],
      "execution_count": 39,
      "outputs": [
        {
          "output_type": "stream",
          "name": "stderr",
          "text": [
            "/usr/local/lib/python3.7/dist-packages/ipykernel_launcher.py:1: VisibleDeprecationWarning: Creating an ndarray from ragged nested sequences (which is a list-or-tuple of lists-or-tuples-or ndarrays with different lengths or shapes) is deprecated. If you meant to do this, you must specify 'dtype=object' when creating the ndarray\n",
            "  \"\"\"Entry point for launching an IPython kernel.\n"
          ]
        },
        {
          "output_type": "execute_result",
          "data": {
            "text/plain": [
              "array([list([1, 2, 3]), list([4, 5, 6]), list([7.8, 9])], dtype=object)"
            ]
          },
          "metadata": {},
          "execution_count": 39
        }
      ]
    },
    {
      "cell_type": "markdown",
      "metadata": {
        "id": "X757wnrMwLcs"
      },
      "source": [
        "#Operasi Matriks Pada Python"
      ]
    },
    {
      "cell_type": "code",
      "metadata": {
        "id": "jyzx8Q_BQdeV",
        "colab": {
          "base_uri": "https://localhost:8080/"
        },
        "outputId": "e6d3cf80-18e3-4afc-a038-e7d288e71284"
      },
      "source": [
        "P = np.array([[1,2],[4,5]])\n",
        "P"
      ],
      "execution_count": 40,
      "outputs": [
        {
          "output_type": "execute_result",
          "data": {
            "text/plain": [
              "array([[1, 2],\n",
              "       [4, 5]])"
            ]
          },
          "metadata": {},
          "execution_count": 40
        }
      ]
    },
    {
      "cell_type": "code",
      "metadata": {
        "id": "HP4vK5vLQmeU"
      },
      "source": [
        "Q = np.array([[7,8],[9,10]])"
      ],
      "execution_count": 41,
      "outputs": []
    },
    {
      "cell_type": "code",
      "metadata": {
        "id": "YgUl8dRyQtFu",
        "colab": {
          "base_uri": "https://localhost:8080/"
        },
        "outputId": "9cabd449-4d78-4cff-a5dd-0fc6b3f5c1f0"
      },
      "source": [
        "a = 29\n",
        "a"
      ],
      "execution_count": 42,
      "outputs": [
        {
          "output_type": "execute_result",
          "data": {
            "text/plain": [
              "29"
            ]
          },
          "metadata": {},
          "execution_count": 42
        }
      ]
    },
    {
      "cell_type": "markdown",
      "metadata": {
        "id": "dqk4tS4FzWxp"
      },
      "source": [
        "**Penjumlahan Matriks**"
      ]
    },
    {
      "cell_type": "code",
      "metadata": {
        "id": "1GkxiW71Q46s",
        "colab": {
          "base_uri": "https://localhost:8080/"
        },
        "outputId": "c54f5514-37b7-4b15-a506-b34ef0a104a6"
      },
      "source": [
        "np.add(P,Q)"
      ],
      "execution_count": 43,
      "outputs": [
        {
          "output_type": "execute_result",
          "data": {
            "text/plain": [
              "array([[ 8, 10],\n",
              "       [13, 15]])"
            ]
          },
          "metadata": {},
          "execution_count": 43
        }
      ]
    },
    {
      "cell_type": "markdown",
      "metadata": {
        "id": "NizjoIocQ8gl"
      },
      "source": [
        "**Pengurangan  Matriks**"
      ]
    },
    {
      "cell_type": "code",
      "metadata": {
        "id": "z_I2Dc5rRBTG",
        "colab": {
          "base_uri": "https://localhost:8080/"
        },
        "outputId": "84d24860-8165-466e-9987-fb3989ad81fe"
      },
      "source": [
        "np.subtract(P,Q)"
      ],
      "execution_count": 44,
      "outputs": [
        {
          "output_type": "execute_result",
          "data": {
            "text/plain": [
              "array([[-6, -6],\n",
              "       [-5, -5]])"
            ]
          },
          "metadata": {},
          "execution_count": 44
        }
      ]
    },
    {
      "cell_type": "markdown",
      "metadata": {
        "id": "e9_UWnUMRG79"
      },
      "source": [
        "**Perkalian Skalar Matriks**"
      ]
    },
    {
      "cell_type": "code",
      "metadata": {
        "id": "XRgHLZRKRM9w",
        "colab": {
          "base_uri": "https://localhost:8080/"
        },
        "outputId": "d233c262-e965-4ed0-d841-9558b40b1eee"
      },
      "source": [
        "a*P"
      ],
      "execution_count": 45,
      "outputs": [
        {
          "output_type": "execute_result",
          "data": {
            "text/plain": [
              "array([[ 29,  58],\n",
              "       [116, 145]])"
            ]
          },
          "metadata": {},
          "execution_count": 45
        }
      ]
    },
    {
      "cell_type": "markdown",
      "metadata": {
        "id": "__TdaKK-RZzL"
      },
      "source": [
        "**Perkalian matriks**"
      ]
    },
    {
      "cell_type": "code",
      "metadata": {
        "id": "N3J4OJ6KwQDc",
        "colab": {
          "base_uri": "https://localhost:8080/"
        },
        "outputId": "08d20d7e-ada0-4374-ce54-85da33346d52"
      },
      "source": [
        "np.multiply(P,Q)"
      ],
      "execution_count": 46,
      "outputs": [
        {
          "output_type": "execute_result",
          "data": {
            "text/plain": [
              "array([[ 7, 16],\n",
              "       [36, 50]])"
            ]
          },
          "metadata": {},
          "execution_count": 46
        }
      ]
    },
    {
      "cell_type": "markdown",
      "metadata": {
        "id": "yIkjXoDTRl8R"
      },
      "source": [
        "**Perkalian Titik Matriks (Dot Product)"
      ]
    },
    {
      "cell_type": "code",
      "metadata": {
        "id": "YTOhlNc5RxYo",
        "colab": {
          "base_uri": "https://localhost:8080/"
        },
        "outputId": "d3a27f3b-1a29-4d39-9372-f5defaf05418"
      },
      "source": [
        "np.dot(P,Q)"
      ],
      "execution_count": 47,
      "outputs": [
        {
          "output_type": "execute_result",
          "data": {
            "text/plain": [
              "array([[25, 28],\n",
              "       [73, 82]])"
            ]
          },
          "metadata": {},
          "execution_count": 47
        }
      ]
    },
    {
      "cell_type": "markdown",
      "metadata": {
        "id": "pZr90-4VR2Rc"
      },
      "source": [
        "**Transpose Matriks**"
      ]
    },
    {
      "cell_type": "code",
      "metadata": {
        "id": "OvaccwHiR6KI",
        "colab": {
          "base_uri": "https://localhost:8080/"
        },
        "outputId": "f33223d9-acc4-41ff-c9d6-7a35863fbbdf"
      },
      "source": [
        "P.T"
      ],
      "execution_count": 48,
      "outputs": [
        {
          "output_type": "execute_result",
          "data": {
            "text/plain": [
              "array([[1, 4],\n",
              "       [2, 5]])"
            ]
          },
          "metadata": {},
          "execution_count": 48
        }
      ]
    },
    {
      "cell_type": "markdown",
      "metadata": {
        "id": "reh7CJ0YR8kN"
      },
      "source": [
        "**Operasi Fungsi Pada Setiap Elemen Matriks-Akar Kuadrat** "
      ]
    },
    {
      "cell_type": "code",
      "metadata": {
        "id": "UnlW8vdRSN8d",
        "colab": {
          "base_uri": "https://localhost:8080/"
        },
        "outputId": "a29fe822-eb61-4fe5-bab9-e138ebe125aa"
      },
      "source": [
        "np.sqrt(P)"
      ],
      "execution_count": 49,
      "outputs": [
        {
          "output_type": "execute_result",
          "data": {
            "text/plain": [
              "array([[1.        , 1.41421356],\n",
              "       [2.        , 2.23606798]])"
            ]
          },
          "metadata": {},
          "execution_count": 49
        }
      ]
    },
    {
      "cell_type": "markdown",
      "metadata": {
        "id": "rTyjTUjXSQzt"
      },
      "source": [
        "**Menjumlahkan Semua ELemen kolom Sebuah Matriks**\n",
        "\n"
      ]
    },
    {
      "cell_type": "code",
      "metadata": {
        "id": "cgkwYgL8Svvt",
        "colab": {
          "base_uri": "https://localhost:8080/"
        },
        "outputId": "866384be-d8e7-4c9b-bad6-6abbf04c96d0"
      },
      "source": [
        "Q"
      ],
      "execution_count": 50,
      "outputs": [
        {
          "output_type": "execute_result",
          "data": {
            "text/plain": [
              "array([[ 7,  8],\n",
              "       [ 9, 10]])"
            ]
          },
          "metadata": {},
          "execution_count": 50
        }
      ]
    },
    {
      "cell_type": "code",
      "metadata": {
        "id": "Y334jpHGSz3r",
        "colab": {
          "base_uri": "https://localhost:8080/"
        },
        "outputId": "8885350d-c643-4130-b05e-64ad90711edd"
      },
      "source": [
        " np.sum(Q,axis=1)"
      ],
      "execution_count": 51,
      "outputs": [
        {
          "output_type": "execute_result",
          "data": {
            "text/plain": [
              "array([15, 19])"
            ]
          },
          "metadata": {},
          "execution_count": 51
        }
      ]
    },
    {
      "cell_type": "markdown",
      "metadata": {
        "id": "lyscmYNrURKE"
      },
      "source": [
        "**Menjumlahkan Semua Elemen Baris Sebuah Matriks**"
      ]
    },
    {
      "cell_type": "code",
      "metadata": {
        "id": "83mz9kuaUi7s",
        "colab": {
          "base_uri": "https://localhost:8080/"
        },
        "outputId": "f2f3ddf6-64ae-4f5c-bfca-ce8471bd501a"
      },
      "source": [
        "np.sum(Q, axis=0)"
      ],
      "execution_count": 52,
      "outputs": [
        {
          "output_type": "execute_result",
          "data": {
            "text/plain": [
              "array([16, 18])"
            ]
          },
          "metadata": {},
          "execution_count": 52
        }
      ]
    },
    {
      "cell_type": "markdown",
      "metadata": {
        "id": "CQBdhDNgwQoi"
      },
      "source": [
        "#Aljabar Linear Pada Python"
      ]
    },
    {
      "cell_type": "markdown",
      "metadata": {
        "id": "Mr9hXO5mU40u"
      },
      "source": [
        "Dalam modul numpy juga disediakan fungsi-fungsi Aljabar untuk matriks. Beberapa konsep Aljabar Linear yang akan di tunjukan di modul ini adalah\n",
        "\n",
        "* Determinan\n",
        "* INVerse\n",
        "* Nilai eigen\n",
        "* Vaktor eigen\n",
        "* Matriks identitas\n",
        "* Matriks Satuan\n",
        "* Matriks nol\n",
        "* Matriks segitiga L dan U\n",
        "* Dekomposisi L U matriks"
      ]
    },
    {
      "cell_type": "code",
      "metadata": {
        "id": "LzUqAgtNwWlu",
        "colab": {
          "base_uri": "https://localhost:8080/"
        },
        "outputId": "7ce98f87-8eb5-448d-a1fd-0bdf278b68e5"
      },
      "source": [
        "A = np.array([[2,3,4], [7,8,9],[10,7,8]])\n",
        "A"
      ],
      "execution_count": 54,
      "outputs": [
        {
          "output_type": "execute_result",
          "data": {
            "text/plain": [
              "array([[ 2,  3,  4],\n",
              "       [ 7,  8,  9],\n",
              "       [10,  7,  8]])"
            ]
          },
          "metadata": {},
          "execution_count": 54
        }
      ]
    },
    {
      "cell_type": "code",
      "metadata": {
        "id": "Zc9xyJfqWBfy",
        "colab": {
          "base_uri": "https://localhost:8080/"
        },
        "outputId": "67cfab5e-ffc1-473e-ec3d-a91355f0cfeb"
      },
      "source": [
        "B=np.array([[5,7,4],[6,8,9],[1,2,6]])\n",
        "B"
      ],
      "execution_count": 55,
      "outputs": [
        {
          "output_type": "execute_result",
          "data": {
            "text/plain": [
              "array([[5, 7, 4],\n",
              "       [6, 8, 9],\n",
              "       [1, 2, 6]])"
            ]
          },
          "metadata": {},
          "execution_count": 55
        }
      ]
    },
    {
      "cell_type": "markdown",
      "metadata": {
        "id": "1VIN5G-tWKgS"
      },
      "source": [
        "**Determinan**"
      ]
    },
    {
      "cell_type": "code",
      "metadata": {
        "id": "FkLmuS2xWNpV",
        "colab": {
          "base_uri": "https://localhost:8080/"
        },
        "outputId": "998ff5c4-e530-47f3-b86e-af97bd023c40"
      },
      "source": [
        "np.linalg.det(A)"
      ],
      "execution_count": 56,
      "outputs": [
        {
          "output_type": "execute_result",
          "data": {
            "text/plain": [
              "-20.000000000000007"
            ]
          },
          "metadata": {},
          "execution_count": 56
        }
      ]
    },
    {
      "cell_type": "markdown",
      "metadata": {
        "id": "tSmPVIo3WUoC"
      },
      "source": [
        "**Inverse Matriks**"
      ]
    },
    {
      "cell_type": "code",
      "metadata": {
        "id": "fkKdYTRUWX2P",
        "colab": {
          "base_uri": "https://localhost:8080/"
        },
        "outputId": "8d36803e-9fc3-4afd-9aed-bfe457e910d3"
      },
      "source": [
        "np.linalg.inv(A)"
      ],
      "execution_count": 57,
      "outputs": [
        {
          "output_type": "execute_result",
          "data": {
            "text/plain": [
              "array([[-0.05, -0.2 ,  0.25],\n",
              "       [-1.7 ,  1.2 , -0.5 ],\n",
              "       [ 1.55, -0.8 ,  0.25]])"
            ]
          },
          "metadata": {},
          "execution_count": 57
        }
      ]
    },
    {
      "cell_type": "markdown",
      "metadata": {
        "id": "vYqmhj-KWjTN"
      },
      "source": [
        "**Nilai Eigen dan Vector Eigen**"
      ]
    },
    {
      "cell_type": "code",
      "metadata": {
        "id": "McCmNBb0WpWA",
        "colab": {
          "base_uri": "https://localhost:8080/"
        },
        "outputId": "26cf920c-7043-4fa3-a002-5970423ab252"
      },
      "source": [
        "eig, vec_eig= np.linalg.eig(A)\n",
        "print('Nilai eigen matriks A:')\n",
        "print(eig)\n",
        "print('vektor eigen matriks:')\n",
        "print(vec_eig)"
      ],
      "execution_count": 58,
      "outputs": [
        {
          "output_type": "stream",
          "name": "stdout",
          "text": [
            "Nilai eigen matriks A:\n",
            "[19.39079317 -1.9262474   0.53545423]\n",
            "vektor eigen matriks:\n",
            "[[-0.27295093 -0.54761756  0.15754422]\n",
            " [-0.6940728  -0.31621014 -0.8168342 ]\n",
            " [-0.66615369  0.7746781   0.55494297]]\n"
          ]
        }
      ]
    },
    {
      "cell_type": "markdown",
      "metadata": {
        "id": "x-0_ePXCW_L0"
      },
      "source": [
        "**Matriks Identitas**"
      ]
    },
    {
      "cell_type": "code",
      "metadata": {
        "colab": {
          "base_uri": "https://localhost:8080/"
        },
        "id": "dpye5p-YXCg8",
        "outputId": "ac3ce01d-7b87-4e72-8dec-794c308b51f8"
      },
      "source": [
        "Identitas=np.identity(5)\n",
        "print(Identitas)"
      ],
      "execution_count": 60,
      "outputs": [
        {
          "output_type": "stream",
          "name": "stdout",
          "text": [
            "[[1. 0. 0. 0. 0.]\n",
            " [0. 1. 0. 0. 0.]\n",
            " [0. 0. 1. 0. 0.]\n",
            " [0. 0. 0. 1. 0.]\n",
            " [0. 0. 0. 0. 1.]]\n"
          ]
        }
      ]
    },
    {
      "cell_type": "code",
      "metadata": {
        "id": "7tKhjLnxXJyX",
        "colab": {
          "base_uri": "https://localhost:8080/"
        },
        "outputId": "2138277e-184b-4416-f566-311979f5cb08"
      },
      "source": [
        "Identitas[:,3]"
      ],
      "execution_count": 61,
      "outputs": [
        {
          "output_type": "execute_result",
          "data": {
            "text/plain": [
              "array([0., 0., 0., 1., 0.])"
            ]
          },
          "metadata": {},
          "execution_count": 61
        }
      ]
    },
    {
      "cell_type": "markdown",
      "metadata": {
        "id": "gQJv8K_GXRrz"
      },
      "source": [
        "**Matriks Satuan**"
      ]
    },
    {
      "cell_type": "code",
      "metadata": {
        "id": "bJfpSvcJXWCy",
        "colab": {
          "base_uri": "https://localhost:8080/"
        },
        "outputId": "d195bf6f-9216-4a4a-e938-af316fa275d7"
      },
      "source": [
        "Satuan=np.ones((2,3))\n",
        "Satuan"
      ],
      "execution_count": 62,
      "outputs": [
        {
          "output_type": "execute_result",
          "data": {
            "text/plain": [
              "array([[1., 1., 1.],\n",
              "       [1., 1., 1.]])"
            ]
          },
          "metadata": {},
          "execution_count": 62
        }
      ]
    },
    {
      "cell_type": "markdown",
      "metadata": {
        "id": "PTOiMX-zXdGr"
      },
      "source": [
        "**Matriks Nol**"
      ]
    },
    {
      "cell_type": "code",
      "metadata": {
        "id": "R5kH43glXgYD",
        "colab": {
          "base_uri": "https://localhost:8080/"
        },
        "outputId": "1a83b7a9-52a4-49e5-c0e8-76dfb40f5eda"
      },
      "source": [
        "MatriksNol=np.zeros(10)\n",
        "MatriksNol"
      ],
      "execution_count": 64,
      "outputs": [
        {
          "output_type": "execute_result",
          "data": {
            "text/plain": [
              "array([0., 0., 0., 0., 0., 0., 0., 0., 0., 0.])"
            ]
          },
          "metadata": {},
          "execution_count": 64
        }
      ]
    },
    {
      "cell_type": "markdown",
      "metadata": {
        "id": "Saf43BDtXtB9"
      },
      "source": [
        "**Matriks Segitiga Atas dan Bawah"
      ]
    },
    {
      "cell_type": "code",
      "metadata": {
        "id": "kqEiopIgXxzl",
        "colab": {
          "base_uri": "https://localhost:8080/"
        },
        "outputId": "c226bebb-bfc2-45ea-94ab-7a7fb2fd54da"
      },
      "source": [
        "M=np.array([[1,2,3],[4,5,6],[7,8,9]])\n",
        "M"
      ],
      "execution_count": 66,
      "outputs": [
        {
          "output_type": "execute_result",
          "data": {
            "text/plain": [
              "array([[1, 2, 3],\n",
              "       [4, 5, 6],\n",
              "       [7, 8, 9]])"
            ]
          },
          "metadata": {},
          "execution_count": 66
        }
      ]
    },
    {
      "cell_type": "code",
      "metadata": {
        "id": "oQFiaFntX58I",
        "colab": {
          "base_uri": "https://localhost:8080/"
        },
        "outputId": "6db2e598-103c-4ec7-c2b3-1a0956ee6417"
      },
      "source": [
        "Lower=np.tril(M, -1)\n",
        "Lower"
      ],
      "execution_count": 67,
      "outputs": [
        {
          "output_type": "execute_result",
          "data": {
            "text/plain": [
              "array([[0, 0, 0],\n",
              "       [4, 0, 0],\n",
              "       [7, 8, 0]])"
            ]
          },
          "metadata": {},
          "execution_count": 67
        }
      ]
    },
    {
      "cell_type": "code",
      "metadata": {
        "id": "mcSxaRUcYBLA",
        "colab": {
          "base_uri": "https://localhost:8080/"
        },
        "outputId": "7735384f-714e-4ea2-fbc0-95fc1cba85be"
      },
      "source": [
        "Upper=np.triu(M, 1)\n",
        "Upper"
      ],
      "execution_count": 68,
      "outputs": [
        {
          "output_type": "execute_result",
          "data": {
            "text/plain": [
              "array([[0, 2, 3],\n",
              "       [0, 0, 6],\n",
              "       [0, 0, 0]])"
            ]
          },
          "metadata": {},
          "execution_count": 68
        }
      ]
    },
    {
      "cell_type": "markdown",
      "metadata": {
        "id": "hP6pvSY3YL_g"
      },
      "source": [
        "Matriks Dekompsisi LU"
      ]
    },
    {
      "cell_type": "code",
      "metadata": {
        "id": "if52b8zqYTQd",
        "colab": {
          "base_uri": "https://localhost:8080/"
        },
        "outputId": "8543a198-4ca4-421b-9d0e-9af34e076859"
      },
      "source": [
        "import numpy as np\n",
        "import scipy.linalg as la\n",
        "np.set_printoptions(suppress=True)\n",
        "\n",
        "P, L, U =la.lu(A)\n",
        "print(P)\n",
        "\n",
        "print(L)\n",
        "\n",
        "print(U)"
      ],
      "execution_count": 69,
      "outputs": [
        {
          "output_type": "stream",
          "name": "stdout",
          "text": [
            "[[0. 0. 1.]\n",
            " [0. 1. 0.]\n",
            " [1. 0. 0.]]\n",
            "[[1.         0.         0.        ]\n",
            " [0.7        1.         0.        ]\n",
            " [0.2        0.51612903 1.        ]]\n",
            "[[10.          7.          8.        ]\n",
            " [ 0.          3.1         3.4       ]\n",
            " [ 0.          0.          0.64516129]]\n"
          ]
        }
      ]
    },
    {
      "cell_type": "markdown",
      "metadata": {
        "id": "vZQmAkkNwXL3"
      },
      "source": [
        "#Membangun Matriks Menggunakan Perulangan"
      ]
    },
    {
      "cell_type": "code",
      "metadata": {
        "id": "IfhLEhFlwgza",
        "colab": {
          "base_uri": "https://localhost:8080/"
        },
        "outputId": "9f5579c0-3291-4aa9-f8f8-4d47cef86786"
      },
      "source": [
        "C=np.arange(0,10,1)\n",
        "C"
      ],
      "execution_count": 70,
      "outputs": [
        {
          "output_type": "execute_result",
          "data": {
            "text/plain": [
              "array([0, 1, 2, 3, 4, 5, 6, 7, 8, 9])"
            ]
          },
          "metadata": {},
          "execution_count": 70
        }
      ]
    },
    {
      "cell_type": "code",
      "metadata": {
        "id": "PU5U-1mIZEAl",
        "colab": {
          "base_uri": "https://localhost:8080/"
        },
        "outputId": "568cbcc8-04aa-4756-97fd-fcea49a9deb0"
      },
      "source": [
        "C**2"
      ],
      "execution_count": 71,
      "outputs": [
        {
          "output_type": "execute_result",
          "data": {
            "text/plain": [
              "array([ 0,  1,  4,  9, 16, 25, 36, 49, 64, 81])"
            ]
          },
          "metadata": {},
          "execution_count": 71
        }
      ]
    },
    {
      "cell_type": "code",
      "metadata": {
        "id": "COmm2-jGZF9b",
        "colab": {
          "base_uri": "https://localhost:8080/"
        },
        "outputId": "ba4d5e04-9833-4108-8015-5ef0646a8931"
      },
      "source": [
        "L=[]\n",
        "for i in C:\n",
        "  L.append(i+1)\n",
        "L"
      ],
      "execution_count": 73,
      "outputs": [
        {
          "output_type": "execute_result",
          "data": {
            "text/plain": [
              "[1, 2, 3, 4, 5, 6, 7, 8, 9, 10]"
            ]
          },
          "metadata": {},
          "execution_count": 73
        }
      ]
    },
    {
      "cell_type": "code",
      "metadata": {
        "id": "gjW4f7qAZXew"
      },
      "source": [
        "A=np.zeros([3,4])\n",
        "baris, kolom = np.shape(A)\n",
        "print(baris)\n",
        "print(kolom)\n",
        "print(A)\n",
        "arr=[]\n",
        "for i in range(baris):\n",
        "  arr.append([])\n",
        "  print(arr)\n",
        "  for j in range(kolom):\n",
        "    arr[i].append((i+j)*2)\n",
        "    print(arr)\n",
        "print(np.array(arr))"
      ],
      "execution_count": null,
      "outputs": []
    },
    {
      "cell_type": "markdown",
      "metadata": {
        "id": "7AWZ0o-Mwh_R"
      },
      "source": [
        "#Latihan"
      ]
    },
    {
      "cell_type": "markdown",
      "metadata": {
        "id": "zSI-PClVwkog"
      },
      "source": [
        "1. Buatlah array matriks identitas dengan ukuran 20x20!"
      ]
    },
    {
      "cell_type": "code",
      "metadata": {
        "id": "GtpiVnT4w7UH",
        "colab": {
          "base_uri": "https://localhost:8080/"
        },
        "outputId": "e60ace87-01fa-41e8-d925-6cc5824995aa"
      },
      "source": [
        "A=np.identity(20)\n",
        "print(A)"
      ],
      "execution_count": 74,
      "outputs": [
        {
          "output_type": "stream",
          "name": "stdout",
          "text": [
            "[[1. 0. 0. 0. 0. 0. 0. 0. 0. 0. 0. 0. 0. 0. 0. 0. 0. 0. 0. 0.]\n",
            " [0. 1. 0. 0. 0. 0. 0. 0. 0. 0. 0. 0. 0. 0. 0. 0. 0. 0. 0. 0.]\n",
            " [0. 0. 1. 0. 0. 0. 0. 0. 0. 0. 0. 0. 0. 0. 0. 0. 0. 0. 0. 0.]\n",
            " [0. 0. 0. 1. 0. 0. 0. 0. 0. 0. 0. 0. 0. 0. 0. 0. 0. 0. 0. 0.]\n",
            " [0. 0. 0. 0. 1. 0. 0. 0. 0. 0. 0. 0. 0. 0. 0. 0. 0. 0. 0. 0.]\n",
            " [0. 0. 0. 0. 0. 1. 0. 0. 0. 0. 0. 0. 0. 0. 0. 0. 0. 0. 0. 0.]\n",
            " [0. 0. 0. 0. 0. 0. 1. 0. 0. 0. 0. 0. 0. 0. 0. 0. 0. 0. 0. 0.]\n",
            " [0. 0. 0. 0. 0. 0. 0. 1. 0. 0. 0. 0. 0. 0. 0. 0. 0. 0. 0. 0.]\n",
            " [0. 0. 0. 0. 0. 0. 0. 0. 1. 0. 0. 0. 0. 0. 0. 0. 0. 0. 0. 0.]\n",
            " [0. 0. 0. 0. 0. 0. 0. 0. 0. 1. 0. 0. 0. 0. 0. 0. 0. 0. 0. 0.]\n",
            " [0. 0. 0. 0. 0. 0. 0. 0. 0. 0. 1. 0. 0. 0. 0. 0. 0. 0. 0. 0.]\n",
            " [0. 0. 0. 0. 0. 0. 0. 0. 0. 0. 0. 1. 0. 0. 0. 0. 0. 0. 0. 0.]\n",
            " [0. 0. 0. 0. 0. 0. 0. 0. 0. 0. 0. 0. 1. 0. 0. 0. 0. 0. 0. 0.]\n",
            " [0. 0. 0. 0. 0. 0. 0. 0. 0. 0. 0. 0. 0. 1. 0. 0. 0. 0. 0. 0.]\n",
            " [0. 0. 0. 0. 0. 0. 0. 0. 0. 0. 0. 0. 0. 0. 1. 0. 0. 0. 0. 0.]\n",
            " [0. 0. 0. 0. 0. 0. 0. 0. 0. 0. 0. 0. 0. 0. 0. 1. 0. 0. 0. 0.]\n",
            " [0. 0. 0. 0. 0. 0. 0. 0. 0. 0. 0. 0. 0. 0. 0. 0. 1. 0. 0. 0.]\n",
            " [0. 0. 0. 0. 0. 0. 0. 0. 0. 0. 0. 0. 0. 0. 0. 0. 0. 1. 0. 0.]\n",
            " [0. 0. 0. 0. 0. 0. 0. 0. 0. 0. 0. 0. 0. 0. 0. 0. 0. 0. 1. 0.]\n",
            " [0. 0. 0. 0. 0. 0. 0. 0. 0. 0. 0. 0. 0. 0. 0. 0. 0. 0. 0. 1.]]\n"
          ]
        }
      ]
    },
    {
      "cell_type": "markdown",
      "metadata": {
        "id": "4UFP63wmgIc8"
      },
      "source": [
        "2. Buatlah array matriks dengan ukuran sesuai dengan array c dan dengan elemennya adalah bilangan 112!\n",
        "\n",
        "```c=[20, 60, 50, 70, 90, 78, 46, 56]```"
      ]
    },
    {
      "cell_type": "code",
      "metadata": {
        "id": "8Xh4WKZegULW",
        "colab": {
          "base_uri": "https://localhost:8080/"
        },
        "outputId": "b731ce05-f175-4edc-da6d-781a538c9653"
      },
      "source": [
        "c = np.array([20,60,50,70,90,78,46,56])\n",
        "print(np.full_like(c, 112))"
      ],
      "execution_count": 76,
      "outputs": [
        {
          "output_type": "stream",
          "name": "stdout",
          "text": [
            "[112 112 112 112 112 112 112 112]\n"
          ]
        }
      ]
    }
  ]
}